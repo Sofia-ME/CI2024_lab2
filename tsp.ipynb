{
 "cells": [
  {
   "cell_type": "code",
   "execution_count": 167,
   "metadata": {},
   "outputs": [],
   "source": [
    "import pandas as pd\n",
    "import math\n",
    "import numpy as np\n",
    "from geopy.distance import geodesic\n",
    "from tqdm import tqdm"
   ]
  },
  {
   "cell_type": "markdown",
   "metadata": {},
   "source": [
    "# First solution"
   ]
  },
  {
   "cell_type": "code",
   "execution_count": 173,
   "metadata": {},
   "outputs": [],
   "source": [
    "# Function to find the closest unvisited city using geodesic distance\n",
    "def find_closest_city(data, start_coord, visited_cities):\n",
    "    # Initialize variables to store the closest city\n",
    "    min_distance = float('inf')\n",
    "    closest_city = None\n",
    "    closest_city_coord = None\n",
    "    \n",
    "    # Loop through each city to calculate the geodesic distance\n",
    "    for index, row in data.iterrows():\n",
    "        city_name = row[0]\n",
    "        city_coord = (row[1], row[2])  \n",
    "        \n",
    "        # Skip the city if it's already visited\n",
    "        if city_name in visited_cities:\n",
    "            continue\n",
    "        \n",
    "        # Calculate geodesic distance between start_coord and city_coord\n",
    "        distance = geodesic(start_coord, city_coord).kilometers\n",
    "        \n",
    "        # Update the closest city if this one is closer\n",
    "        if distance < min_distance and distance != 0:\n",
    "            min_distance = distance\n",
    "            closest_city = city_name\n",
    "            closest_city_coord = city_coord\n",
    "    \n",
    "    return closest_city, closest_city_coord, min_distance\n",
    "    \n",
    "\n",
    "# Function to solve the TSP using geodesic distance and nearest neighbor\n",
    "def tsp_nearest_neighbor(data, start_city, start_city_coord):\n",
    "    \n",
    "    # Initialize visited cities array\n",
    "    visited_cities = []\n",
    "    \n",
    "    # Add starting city to the visited list\n",
    "    visited_cities.append(start_city)\n",
    "    \n",
    "    #print(f\"Starting city: {start_city}\")\n",
    "    \n",
    "    total_distance = 0\n",
    "    current_city_coord = start_city_coord\n",
    "    \n",
    "    # Loop until all cities are visited\n",
    "    with tqdm(total=len(data) - 1, desc=\"Visiting cities\") as pbar:\n",
    "        while len(visited_cities) < len(data):\n",
    "            # Find the closest unvisited city\n",
    "            closest_city, closest_city_coord, min_distance = find_closest_city(data, current_city_coord, visited_cities)\n",
    "            \n",
    "            # Add the closest city to the visited cities array\n",
    "            visited_cities.append(closest_city)\n",
    "            \n",
    "            # Update the current city coordinates to the new closest city's coordinates\n",
    "            current_city_coord = closest_city_coord\n",
    "            \n",
    "            # Accumulate the total distance\n",
    "            total_distance += min_distance\n",
    "            \n",
    "            #print(f\"Travels to {closest_city} with a distance of {min_distance:.2f} km\")\n",
    "            \n",
    "            # Update the progress bar\n",
    "            pbar.update(1)\n",
    "    \n",
    "    # Return to the start city to complete the loop\n",
    "    return_to_start_distance = geodesic(current_city_coord, start_city_coord).kilometers\n",
    "    total_distance += return_to_start_distance\n",
    "    visited_cities.append(start_city)  # Add the starting city at the end to close the loop\n",
    "    \n",
    "    #print(f\"Returning to {start_city} with a distance of {return_to_start_distance:.2f} km\")\n",
    "\n",
    "    \n",
    "    return visited_cities, total_distance"
   ]
  },
  {
   "cell_type": "markdown",
   "metadata": {},
   "source": [
    "# Second solution"
   ]
  },
  {
   "cell_type": "code",
   "execution_count": 179,
   "metadata": {},
   "outputs": [],
   "source": [
    "# Calculate vectors (distance and bearing) from the start city to all other cities\n",
    "def calculate_vectors(data, start_city_name, start_city_coord):\n",
    "    vectors = []\n",
    "    for index, row in data.iterrows():\n",
    "        city_name = row[0]\n",
    "        city_coord = (row[1], row[2])\n",
    "        \n",
    "        if city_name == start_city_name:\n",
    "            continue\n",
    "        \n",
    "        distance = geodesic(start_city_coord, city_coord).kilometers\n",
    "        bearing = calculate_bearing(start_city_coord, city_coord)\n",
    "        \n",
    "        vectors.append({\n",
    "            'city': city_name,\n",
    "            'coordinates': city_coord,\n",
    "            'distance': distance,\n",
    "            'bearing': bearing\n",
    "        })\n",
    "    \n",
    "    # Sort by bearing\n",
    "    vectors = sorted(vectors, key=lambda x: x['bearing'])\n",
    "    return vectors\n",
    "\n",
    "# Helper function to calculate bearing (angle in relation to North)\n",
    "def calculate_bearing(coord1, coord2):\n",
    "    lat1, lon1 = math.radians(coord1[0]), math.radians(coord1[1])\n",
    "    lat2, lon2 = math.radians(coord2[0]), math.radians(coord2[1])\n",
    "    \n",
    "    delta_lon = lon2 - lon1\n",
    "    x = math.sin(delta_lon) * math.cos(lat2)\n",
    "    y = math.cos(lat1) * math.sin(lat2) - (math.sin(lat1) * math.cos(lat2) * math.cos(delta_lon))\n",
    "    initial_bearing = math.atan2(x, y)\n",
    "    \n",
    "    bearing = (math.degrees(initial_bearing) + 360) % 360\n",
    "    return bearing\n",
    "\n",
    "# Find the largest bearing difference\n",
    "def find_largest_bearing_difference(vectors):\n",
    "    max_difference = 0\n",
    "    city_pair = None\n",
    "    \n",
    "    for i in range(1, len(vectors)):\n",
    "        current_bearing = vectors[i]['bearing']\n",
    "        previous_bearing = vectors[i - 1]['bearing']\n",
    "        \n",
    "        difference = current_bearing - previous_bearing\n",
    "        \n",
    "        if difference > max_difference:\n",
    "            max_difference = difference\n",
    "            city_pair = (vectors[i - 1], vectors[i])\n",
    "    \n",
    "    circular_difference = 360 - vectors[-1]['bearing'] + vectors[0]['bearing']\n",
    "    if circular_difference > max_difference:\n",
    "        max_difference = circular_difference\n",
    "        city_pair = (vectors[-1], vectors[0])\n",
    "    \n",
    "    return city_pair\n",
    "\n",
    "# Calculate total distance of the route and print city order\n",
    "def calculate_total_distance_and_route(start_city_name, start_coord, vectors, city_pair):\n",
    "    total_distance = 0.0\n",
    "    route = [start_city_name]\n",
    "\n",
    "    #print(f\"Starting city: {start_city_name}\")\n",
    "    \n",
    "    # Start from the second city in the largest bearing difference pair\n",
    "    route.append(city_pair[1]['city'])\n",
    "    total_distance += geodesic(start_coord, city_pair[1]['coordinates']).kilometers\n",
    "\n",
    "    #print(f\"Travels to {city_pair[1]['city']} with a distance of {total_distance:.2f} km\")\n",
    "    \n",
    "    # Next city, closest in terms of bearing\n",
    "    next_index = vectors.index(city_pair[1]) + 1\n",
    "    \n",
    "    # Cover all cities and stopping at the first city in the largest bearing difference pair\n",
    "    while route[-1] != city_pair[0]['city']:\n",
    "\n",
    "        # Go to the begining of the list of sorted vectors when the end is reached\n",
    "        if next_index > (len(vectors)-1):\n",
    "            next_index = 0\n",
    "        \n",
    "        route.append(vectors[next_index]['city'])\n",
    "        distance = geodesic(vectors[next_index - 1]['coordinates'], vectors[next_index]['coordinates']).kilometers\n",
    "        total_distance += distance\n",
    "\n",
    "        #print(f\"Travels to {vectors[next_index]['city']} with a distance of {distance:.2f} km\")\n",
    "\n",
    "        next_index += 1\n",
    "\n",
    "\n",
    "    # Add distance from the first city in the pair back to the starting city\n",
    "    total_distance += geodesic(start_coord, city_pair[0]['coordinates']).kilometers\n",
    "    route.append(start_city_name)\n",
    "    \n",
    "    return total_distance, route\n",
    "\n",
    "# Main function\n",
    "def solve_tsp_with_vectors(data, start_city, start_city_coord):\n",
    "    \n",
    "    # Calculate vectors\n",
    "    vectors = calculate_vectors(data, start_city, start_city_coord)\n",
    "    \n",
    "    # Find the largest bearing difference\n",
    "    city_pair = find_largest_bearing_difference(vectors)\n",
    "    \n",
    "    # Calculate total distance traveled and route\n",
    "    total_distance, route = calculate_total_distance_and_route(start_city, start_city_coord, vectors, city_pair)\n",
    "    print('------------------------------------------------------------')\n",
    "    print(f\"Total distance traveled: {total_distance:.2f} km\")\n",
    "    print(\"Travel order:\", \" -> \".join(route))\n",
    "    \n",
    "    return total_distance, route\n"
   ]
  },
  {
   "cell_type": "markdown",
   "metadata": {},
   "source": [
    "# Results"
   ]
  },
  {
   "cell_type": "code",
   "execution_count": 175,
   "metadata": {},
   "outputs": [],
   "source": [
    "# Import CSV file\n",
    "def import_cities(filename):\n",
    "    return pd.read_csv(filename)\n",
    "\n",
    "# Choose a random starting city\n",
    "def choose_random_city(data):\n",
    "    random_index = np.random.choice(data.index)\n",
    "    city_name = data.iloc[random_index][0]\n",
    "    city_coord = (data.iloc[random_index][1], data.iloc[random_index][2])  \n",
    "    return city_name, city_coord"
   ]
  },
  {
   "cell_type": "code",
   "execution_count": 181,
   "metadata": {},
   "outputs": [],
   "source": [
    "data = import_cities('vanuatu.csv')\n",
    "#data = import_cities('italy.csv')\n",
    "#data = import_cities('us.csv')\n",
    "#data = import_cities('russia.csv')\n",
    "#data = import_cities('china.csv')\n",
    "start_city, start_city_coord = choose_random_city(data)"
   ]
  },
  {
   "cell_type": "code",
   "execution_count": 182,
   "metadata": {},
   "outputs": [
    {
     "name": "stderr",
     "output_type": "stream",
     "text": [
      "Visiting cities: 100%|██████████| 6/6 [00:00<00:00, 397.66it/s]"
     ]
    },
    {
     "name": "stdout",
     "output_type": "stream",
     "text": [
      "------------------------------------------------------------\n",
      "Total distance traveled: 1158.19 km\n",
      "Travel order: Port Olry -> Luganville -> Norsup -> Lakatoro -> Longana -> Sola -> Vila -> Port Olry\n"
     ]
    },
    {
     "name": "stderr",
     "output_type": "stream",
     "text": [
      "\n"
     ]
    }
   ],
   "source": [
    "# First solution\n",
    "visited_cities, total_distance = tsp_nearest_neighbor(data, start_city, start_city_coord)\n",
    "print('------------------------------------------------------------')\n",
    "print(f\"Total distance traveled: {total_distance:.2f} km\")\n",
    "travel_order = \" -> \".join(visited_cities)\n",
    "print(f\"Travel order: {travel_order}\")"
   ]
  },
  {
   "cell_type": "code",
   "execution_count": 183,
   "metadata": {},
   "outputs": [
    {
     "name": "stdout",
     "output_type": "stream",
     "text": [
      "------------------------------------------------------------\n",
      "Total distance traveled: 907.09 km\n",
      "Travel order: Port Olry -> Sola -> Longana -> Vila -> Lakatoro -> Norsup -> Luganville -> Port Olry\n"
     ]
    }
   ],
   "source": [
    "# Second solution\n",
    "total_distance, route = solve_tsp_with_vectors(data, start_city, start_city_coord)"
   ]
  }
 ],
 "metadata": {
  "kernelspec": {
   "display_name": "base",
   "language": "python",
   "name": "python3"
  },
  "language_info": {
   "codemirror_mode": {
    "name": "ipython",
    "version": 3
   },
   "file_extension": ".py",
   "mimetype": "text/x-python",
   "name": "python",
   "nbconvert_exporter": "python",
   "pygments_lexer": "ipython3",
   "version": "3.8.8"
  },
  "orig_nbformat": 4
 },
 "nbformat": 4,
 "nbformat_minor": 2
}
