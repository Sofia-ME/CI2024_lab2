{
 "cells": [
  {
   "cell_type": "code",
   "execution_count": 2,
   "metadata": {},
   "outputs": [],
   "source": [
    "import pandas as pd\n",
    "import math\n",
    "import numpy as np\n",
    "from geopy.distance import geodesic"
   ]
  },
  {
   "cell_type": "markdown",
   "metadata": {},
   "source": [
    "# First solution"
   ]
  },
  {
   "cell_type": "code",
   "execution_count": 3,
   "metadata": {},
   "outputs": [],
   "source": [
    "# Function to find the closest unvisited city using geodesic distance\n",
    "def find_closest_city(df, start_coord, visited_cities):\n",
    "    # Initialize variables to store the closest city\n",
    "    min_distance = float('inf')\n",
    "    closest_city = None\n",
    "    closest_city_coord = None\n",
    "    \n",
    "    # Loop through each city to calculate the geodesic distance\n",
    "    for index, row in df.iterrows():\n",
    "        city_name = row[0]\n",
    "        city_coord = (row[1], row[2])  # Assuming columns [1] and [2] are latitude and longitude\n",
    "        \n",
    "        # Skip the city if it's already visited\n",
    "        if city_name in visited_cities:\n",
    "            continue\n",
    "        \n",
    "        # Calculate geodesic distance between start_coord and city_coord\n",
    "        distance = geodesic(start_coord, city_coord).kilometers\n",
    "        \n",
    "        # Update the closest city if this one is closer\n",
    "        if distance < min_distance and distance != 0:\n",
    "            min_distance = distance\n",
    "            closest_city = city_name\n",
    "            closest_city_coord = city_coord\n",
    "    \n",
    "    return closest_city, closest_city_coord, min_distance\n",
    "    "
   ]
  },
  {
   "cell_type": "code",
   "execution_count": 11,
   "metadata": {},
   "outputs": [],
   "source": [
    "# Function to solve the TSP using geodesic distance and nearest neighbor\n",
    "def tsp_nearest_neighbor(filename):\n",
    "    # Read CSV\n",
    "    df = pd.read_csv(filename)\n",
    "    \n",
    "    # Initialize visited cities array\n",
    "    visited_cities = []\n",
    "    \n",
    "    # Select a random starting city\n",
    "    start_index = np.random.choice(df.index)\n",
    "    start_city = df.iloc[start_index][0]\n",
    "    start_city_coord = (df.iloc[start_index][1], df.iloc[start_index][2])\n",
    "    \n",
    "    # Add starting city to the visited list\n",
    "    visited_cities.append(start_city)\n",
    "    \n",
    "    print(f\"Starting city: {start_city}\")\n",
    "    \n",
    "    total_distance = 0\n",
    "    current_city_coord = start_city_coord\n",
    "    \n",
    "    # Loop until all cities are visited\n",
    "    while len(visited_cities) < len(df):\n",
    "        # Find the closest unvisited city\n",
    "        closest_city, closest_city_coord, min_distance = find_closest_city(df, current_city_coord, visited_cities)\n",
    "        \n",
    "        # Add the closest city to the visited cities array\n",
    "        visited_cities.append(closest_city)\n",
    "        \n",
    "        # Update the current city coordinates to the new closest city's coordinates\n",
    "        current_city_coord = closest_city_coord\n",
    "        \n",
    "        # Accumulate the total distance\n",
    "        total_distance += min_distance\n",
    "        \n",
    "        print(f\"Travels to {closest_city} with a distance of {min_distance:.2f} km\")\n",
    "    \n",
    "    # Return to the start city to complete the loop\n",
    "    return_to_start_distance = geodesic(current_city_coord, start_city_coord).kilometers\n",
    "    total_distance += return_to_start_distance\n",
    "    visited_cities.append(start_city)  # Add the starting city at the end to close the loop\n",
    "    \n",
    "    print(f\"Returning to {start_city} with a distance of {return_to_start_distance:.2f} km\")\n",
    "\n",
    "    \n",
    "    return visited_cities, total_distance"
   ]
  },
  {
   "cell_type": "code",
   "execution_count": 17,
   "metadata": {},
   "outputs": [
    {
     "name": "stdout",
     "output_type": "stream",
     "text": [
      "Starting city: Port Olry\n",
      "Travels to Luganville with a distance of 52.02 km\n",
      "Travels to Norsup with a distance of 67.09 km\n",
      "Travels to Lakatoro with a distance of 2.46 km\n",
      "Travels to Longana with a distance of 108.53 km\n",
      "Travels to Sola with a distance of 165.49 km\n",
      "Travels to Vila with a distance of 435.91 km\n",
      "Returning to Port Olry with a distance of 326.69 km\n",
      "---------------------------------------------------\n",
      "Total distance traveled: 1158.19 km\n",
      "Visited cities in order: ['Port Olry', 'Luganville', 'Norsup', 'Lakatoro', 'Longana', 'Sola', 'Vila', 'Port Olry']\n"
     ]
    }
   ],
   "source": [
    "# Vanuatu\n",
    "visited_cities, total_distance = tsp_nearest_neighbor('vanuatu.csv')\n",
    "print('---------------------------------------------------')\n",
    "print(f\"Total distance traveled: {total_distance:.2f} km\")\n",
    "print(f\"Visited cities in order: {visited_cities}\")"
   ]
  },
  {
   "cell_type": "markdown",
   "metadata": {},
   "source": [
    "# Second solution"
   ]
  },
  {
   "cell_type": "code",
   "execution_count": null,
   "metadata": {},
   "outputs": [],
   "source": []
  }
 ],
 "metadata": {
  "kernelspec": {
   "display_name": "base",
   "language": "python",
   "name": "python3"
  },
  "language_info": {
   "codemirror_mode": {
    "name": "ipython",
    "version": 3
   },
   "file_extension": ".py",
   "mimetype": "text/x-python",
   "name": "python",
   "nbconvert_exporter": "python",
   "pygments_lexer": "ipython3",
   "version": "3.8.8"
  },
  "orig_nbformat": 4
 },
 "nbformat": 4,
 "nbformat_minor": 2
}
